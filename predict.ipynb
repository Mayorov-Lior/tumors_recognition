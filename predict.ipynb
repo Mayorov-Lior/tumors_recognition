{
 "cells": [
  {
   "cell_type": "code",
   "execution_count": 3,
   "metadata": {},
   "outputs": [],
   "source": [
    "import pandas as pd\n",
    "import numpy as np\n",
    "import os\n",
    "import math\n",
    "import PIL\n",
    "from PIL import ImageOps\n",
    "import matplotlib.pyplot as plt\n",
    "import tensorflow as tf\n",
    "from tensorflow.keras import backend as K\n",
    "from tensorflow.keras.applications import ResNet50\n",
    "from tensorflow.keras.layers import Dense, GlobalAveragePooling2D, Input\n",
    "from tensorflow.keras.models import Model\n",
    "\n",
    "# !pip install openslide-python\n",
    "# need to download binaries and add bin to path\n",
    "OPENSLIDE_PATH = os.path.join(r'C:\\Users\\Lior\\Anaconda3\\envs\\pathology\\openslide-bin\\bin')\n",
    "\n",
    "with os.add_dll_directory(OPENSLIDE_PATH):\n",
    "    import openslide"
   ]
  },
  {
   "cell_type": "code",
   "execution_count": 4,
   "metadata": {},
   "outputs": [],
   "source": [
    "SCALE_FACTOR = 32\n",
    "TILES_SIZE = 32\n",
    "TILE_PIXEL_THRESHOLD = 245\n",
    "TILE_DROP_THRESHOLD = 0.95\n",
    "TRAIN_NORMAL_PATH = './data/train/normal/'\n",
    "TRAIN_TUMOR_PATH = './data/train/tumor/'\n",
    "VAL_NORMAL_PATH = './data/val/normal/'\n",
    "VAL_TUMOR_PATH = './data/val/tumor/'"
   ]
  },
  {
   "cell_type": "code",
   "execution_count": 5,
   "metadata": {},
   "outputs": [],
   "source": [
    "def open_slide_as_array(filename: str, scale_factor: int = SCALE_FACTOR) -> np.array:\n",
    "  \"\"\"\n",
    "  Open a svs file, scale it by scale_factor and convert to numpy array\n",
    "  returns the np img, original and new dimensions\n",
    "  \"\"\"\n",
    "  try:\n",
    "    slide = openslide.open_slide(filename)\n",
    "  except OpenSlideError as error:\n",
    "    print(error)\n",
    "    slide = None\n",
    "  except FileNotFoundError as error:\n",
    "    print(error)\n",
    "    slide = None\n",
    "\n",
    "  large_w, large_h = slide.dimensions\n",
    "  new_w = math.floor(large_w / scale_factor)\n",
    "  new_h = math.floor(large_h / scale_factor)\n",
    "  level = slide.get_best_level_for_downsample(scale_factor)\n",
    "  whole_slide_image = slide.read_region((0, 0), level, slide.level_dimensions[level])\n",
    "  whole_slide_image = whole_slide_image.convert(\"RGB\")\n",
    "  img = whole_slide_image.resize((new_w, new_h), PIL.Image.BILINEAR)\n",
    "  img = np.asarray(img)\n",
    "  return img"
   ]
  },
  {
   "cell_type": "code",
   "execution_count": 6,
   "metadata": {},
   "outputs": [],
   "source": [
    "def create_csv_w_filenames(name: str, normal_path, tumor_path) -> pd.DataFrame:\n",
    "    ''' Downloaded images from:  https://portal.gdc.cancer.gov/analysis_page?app=Downloads \n",
    "        with filters normal/tumor and svs files.\n",
    "        This function creates a dataframe with file name column and a target column, save it to a csv and returns the df'''\n",
    "    normal_tissues_filenames = [os.path.join(normal_path, f) for f in os.listdir(normal_path)]\n",
    "    tumor_tissues_filenames = [os.path.join(tumor_path, f) for f in os.listdir(tumor_path)]\n",
    "    filenames = normal_tissues_filenames + tumor_tissues_filenames\n",
    "    tags = [0] * len(normal_tissues_filenames) + [1]*len(tumor_tissues_filenames)\n",
    "    print(filenames)\n",
    "    print(tags)\n",
    "\n",
    "    df = pd.DataFrame.from_dict({'file_name':filenames, 'tag':tags})\n",
    "    df.to_csv(name)\n",
    "    return df"
   ]
  },
  {
   "cell_type": "code",
   "execution_count": 7,
   "metadata": {},
   "outputs": [
    {
     "name": "stdout",
     "output_type": "stream",
     "text": [
      "['./data/train/normal/TCGA-34-2604-11A-01-BS1.f3489bd1-319f-4472-b09c-72f4c251ccbd.svs', './data/train/normal/TCGA-60-2698-11A-01-BS1.ca0fb378-b1f1-4bb7-b078-f56788cbec88.svs', './data/train/normal/TCGA-60-2710-11A-01-TS1.4f7b911e-5f72-4d83-a849-d56402dcc9a4.svs', './data/train/tumor/HCM-CSHL-0057-C18-01B-01-S1-HE.B9DFB327-AF35-41B4-85F1-0B594D076194.svs', './data/train/tumor/HCM-CSHL-0058-C34-01B-01-S1-HE.1FDC6ED6-4820-48FF-977B-5C82FC13B101.svs', './data/train/tumor/HCM-CSHL-0059-C25-01A-01-S1-HE.F2261D51-D4E4-4E8A-A707-331ED4E46ECC.svs', './data/train/tumor/HCM-CSHL-0080-C25-01A-01-S1-HE.7BBD7E7A-069E-4FAC-A5C0-519E23571AB5.svs', './data/train/tumor/HCM-CSHL-0160-C18-01B-01-S1-HE.902091A8-28E8-4152-9688-DBCEB518CBF0.svs', './data/train/tumor/HCM-CSHL-0322-C20-01B-01-S2-HE.63178495-7D66-4D21-B9FA-BC3455283A17.svs', './data/train/tumor/HCM-CSHL-0459-C17-01B-01-S2-HE.A68FCFF8-2A0B-4583-BE5D-28D9CAFB27B0.svs']\n",
      "[0, 0, 0, 1, 1, 1, 1, 1, 1, 1]\n",
      "['./data/val/normal/TCGA-34-8455-11A-01-TS1.6a8ea5b2-1a64-429e-be1c-71b8d9401dc1.svs', './data/val/normal/TCGA-66-2786-11A-01-BS1.df901b2d-3c92-4ce8-bac5-8b78c5b3d91a.svs', './data/val/tumor/HCM-CSHL-0322-C20-01B-01-S1-HE.20DF1DF4-2CD1-4E67-B514-551BC8F06A3E.svs', './data/val/tumor/HCM-CSHL-0366-C50-01A-01-S2-HE.39290D4D-2977-4960-B5A5-84872019A995.svs']\n",
      "[0, 0, 1, 1]\n"
     ]
    }
   ],
   "source": [
    "df_train = create_csv_w_filenames('pathology_train_dataset.csv', TRAIN_NORMAL_PATH, TRAIN_TUMOR_PATH)\n",
    "df_val = create_csv_w_filenames('pathology_train_dataset.csv', VAL_NORMAL_PATH, VAL_TUMOR_PATH)"
   ]
  },
  {
   "cell_type": "code",
   "execution_count": 8,
   "metadata": {},
   "outputs": [],
   "source": [
    "def examine_tissues(df:pd.DataFrame = None, path_to_folder: str = None) -> None:    \n",
    "    def show_img(tissue_path):\n",
    "        if tissue_path.endswith('svs'):\n",
    "            img = open_slide_as_array(tissue_path)\n",
    "            plt.imshow(img)\n",
    "            plt.title(tissue_path)\n",
    "            plt.show()\n",
    "\n",
    "    if df is None:\n",
    "        for tissue_path in os.listdir(path_to_folder):\n",
    "            show_img(os.path.join(path_to_folder,tissue_path))\n",
    "    else:\n",
    "        df['file_name'].apply(show_img)"
   ]
  },
  {
   "cell_type": "code",
   "execution_count": 119,
   "metadata": {},
   "outputs": [],
   "source": [
    "# examine_tissues(path_to_folder=r'C:\\Users\\Lior\\Documents\\Python Scripts\\samueli\\data\\val\\tumor')"
   ]
  },
  {
   "cell_type": "code",
   "execution_count": 9,
   "metadata": {},
   "outputs": [],
   "source": [
    "def keep_tile(tile: np.array) -> np.array:\n",
    "    return sum(sum(sum(tile > TILE_PIXEL_THRESHOLD))) / (TILES_SIZE*TILES_SIZE*3) < TILE_DROP_THRESHOLD\n",
    "\n",
    "def divide_img_to_tiles(img: np.array, tiles_size: int = TILES_SIZE) -> np.array:\n",
    "    '''\n",
    "    create and return a np array of square tiles with a set size (TILES_SIZE) from a np array representing a whole slide image\n",
    "    if the image size doesn't divide by TILES_SIZE, the edges (right & bottom) get negleted, with the asumption that there won't be tissue in the edges.\n",
    "    '''\n",
    "    height, width, _ = img.shape\n",
    "\n",
    "    # Calculate the number of squares along each dimension\n",
    "    num_tiles_height = height // tiles_size\n",
    "    num_tiles_width = width // tiles_size\n",
    "\n",
    "    # List to store the squares\n",
    "    tiles = []\n",
    "\n",
    "    # Extract 20x20 squares\n",
    "    for i in range(num_tiles_height):\n",
    "        for j in range(num_tiles_width):\n",
    "            tile = img[i * tiles_size:(i + 1) * tiles_size, j * tiles_size:(j + 1) * tiles_size]\n",
    "            if keep_tile(tile):\n",
    "                tiles.append(tile)\n",
    "\n",
    "    return np.stack(tiles)"
   ]
  },
  {
   "cell_type": "code",
   "execution_count": 10,
   "metadata": {},
   "outputs": [],
   "source": [
    "def create_tiles_dataset(df: pd.DataFrame) -> tuple[np.array, np.array, list]:\n",
    "    '''\n",
    "    Given a dataframe of wsl filenames and their tag, this function creates X and y arrays by reading the images, dividing to tiles and reorganizing them.\n",
    "    In addition to X,y, the function also returns the tiles' amounts per image for later evaluation\n",
    "    '''\n",
    "    tiles_dataset = []\n",
    "    targets = []\n",
    "\n",
    "    df = df.sample(frac=1).reset_index(drop=True)\n",
    "\n",
    "    for i in df.index:\n",
    "        img = open_slide_as_array(df.iloc[i]['file_name'])\n",
    "        tiles = divide_img_to_tiles(img, tiles_size=TILES_SIZE)\n",
    "        tiles_dataset.append(tiles)\n",
    "        targets.append([df.iloc[i]['tag']] * len(tiles))\n",
    "\n",
    "    return np.concatenate(tiles_dataset), np.concatenate(targets), [img.shape[0] for img in tiles_dataset]"
   ]
  },
  {
   "cell_type": "code",
   "execution_count": 11,
   "metadata": {},
   "outputs": [],
   "source": [
    "# create datasets\n",
    "X_train, y_train, tiles_amounts_train = create_tiles_dataset(df_train)\n",
    "X_val, y_val, tiles_amounts_val = create_tiles_dataset(df_val)"
   ]
  },
  {
   "cell_type": "code",
   "execution_count": 12,
   "metadata": {},
   "outputs": [
    {
     "name": "stdout",
     "output_type": "stream",
     "text": [
      "Train sizes: X: (10793, 32, 32, 3), y: (10793,) \n",
      "Validation sizes: X: (5819, 32, 32, 3), y: (5819,)\n"
     ]
    }
   ],
   "source": [
    "print(f'Train sizes: X: {X_train.shape}, y: {y_train.shape} \\nValidation sizes: X: {X_val.shape}, y: {y_val.shape}')"
   ]
  },
  {
   "cell_type": "markdown",
   "metadata": {},
   "source": [
    "Fine tuning ResNet50:"
   ]
  },
  {
   "cell_type": "code",
   "execution_count": 19,
   "metadata": {},
   "outputs": [
    {
     "name": "stdout",
     "output_type": "stream",
     "text": [
      "Epoch 1/10\n",
      "\u001b[1m338/338\u001b[0m \u001b[32m━━━━━━━━━━━━━━━━━━━━\u001b[0m\u001b[37m\u001b[0m \u001b[1m84s\u001b[0m 221ms/step - loss: 0.6801 - val_loss: 0.5737\n",
      "Epoch 2/10\n",
      "\u001b[1m338/338\u001b[0m \u001b[32m━━━━━━━━━━━━━━━━━━━━\u001b[0m\u001b[37m\u001b[0m \u001b[1m72s\u001b[0m 212ms/step - loss: 0.3847 - val_loss: 0.5271\n",
      "Epoch 3/10\n",
      "\u001b[1m338/338\u001b[0m \u001b[32m━━━━━━━━━━━━━━━━━━━━\u001b[0m\u001b[37m\u001b[0m \u001b[1m71s\u001b[0m 211ms/step - loss: 0.3655 - val_loss: 0.5756\n",
      "Epoch 4/10\n",
      "\u001b[1m338/338\u001b[0m \u001b[32m━━━━━━━━━━━━━━━━━━━━\u001b[0m\u001b[37m\u001b[0m \u001b[1m69s\u001b[0m 204ms/step - loss: 0.3567 - val_loss: 0.6379\n",
      "Epoch 5/10\n",
      "\u001b[1m338/338\u001b[0m \u001b[32m━━━━━━━━━━━━━━━━━━━━\u001b[0m\u001b[37m\u001b[0m \u001b[1m70s\u001b[0m 207ms/step - loss: 0.3481 - val_loss: 0.6520\n",
      "Epoch 6/10\n",
      "\u001b[1m338/338\u001b[0m \u001b[32m━━━━━━━━━━━━━━━━━━━━\u001b[0m\u001b[37m\u001b[0m \u001b[1m68s\u001b[0m 202ms/step - loss: 0.3357 - val_loss: 0.6990\n",
      "Epoch 7/10\n",
      "\u001b[1m338/338\u001b[0m \u001b[32m━━━━━━━━━━━━━━━━━━━━\u001b[0m\u001b[37m\u001b[0m \u001b[1m68s\u001b[0m 202ms/step - loss: 0.3332 - val_loss: 0.6456\n",
      "Epoch 8/10\n",
      "\u001b[1m338/338\u001b[0m \u001b[32m━━━━━━━━━━━━━━━━━━━━\u001b[0m\u001b[37m\u001b[0m \u001b[1m61s\u001b[0m 182ms/step - loss: 0.3151 - val_loss: 0.7733\n",
      "Epoch 9/10\n",
      "\u001b[1m338/338\u001b[0m \u001b[32m━━━━━━━━━━━━━━━━━━━━\u001b[0m\u001b[37m\u001b[0m \u001b[1m66s\u001b[0m 194ms/step - loss: 0.3152 - val_loss: 0.7220\n",
      "Epoch 10/10\n",
      "\u001b[1m338/338\u001b[0m \u001b[32m━━━━━━━━━━━━━━━━━━━━\u001b[0m\u001b[37m\u001b[0m \u001b[1m64s\u001b[0m 188ms/step - loss: 0.3080 - val_loss: 0.7107\n"
     ]
    }
   ],
   "source": [
    "# Load the pretrained ResNet50 model without the top classification layer\n",
    "base_model = ResNet50(weights='imagenet', include_top=False, input_shape=(TILES_SIZE, TILES_SIZE, 3))\n",
    "\n",
    "# Freeze all layers in the base model\n",
    "for layer in base_model.layers:\n",
    "    layer.trainable = False\n",
    "\n",
    "# Add custom layers on top of the base model\n",
    "x = base_model.output\n",
    "x = GlobalAveragePooling2D()(x)  # Add a global spatial average pooling layer\n",
    "x = Dense(1024, activation='relu')(x)  # Add a fully-connected layer\n",
    "predictions = Dense(1, activation='sigmoid')(x)  # Output layer \n",
    "\n",
    "# Create the full model\n",
    "model = Model(inputs=base_model.input, outputs=predictions)\n",
    "\n",
    "# Compile the model with the custom loss function\n",
    "model.compile(optimizer='adam', loss='binary_crossentropy')\n",
    "\n",
    "# model.summary()\n",
    "\n",
    "model_fit = model.fit(X_train, y_train, epochs=10, batch_size=32, validation_data=(X_val, y_val))"
   ]
  },
  {
   "cell_type": "code",
   "execution_count": 20,
   "metadata": {},
   "outputs": [],
   "source": [
    "model.save(\"model.keras\")\n",
    "# model = keras.saving.load_model(\"model.keras\")"
   ]
  },
  {
   "cell_type": "code",
   "execution_count": 21,
   "metadata": {},
   "outputs": [
    {
     "data": {
      "image/png": "[encoded data removed]",
      "text/plain": [
       "<Figure size 1000x600 with 1 Axes>"
      ]
     },
     "metadata": {},
     "output_type": "display_data"
    }
   ],
   "source": [
    "plt.figure(figsize=(10, 6))\n",
    "plt.plot(model_fit.history['loss'], label='Training Loss')\n",
    "plt.plot(model_fit.history['val_loss'], label='Validation Loss')\n",
    "plt.xlabel('Epochs')\n",
    "plt.ylabel('Loss')\n",
    "plt.title('Training and Validation Loss')\n",
    "plt.legend()\n",
    "plt.show()"
   ]
  },
  {
   "cell_type": "markdown",
   "metadata": {},
   "source": [
    "That's an obvious case of overfitting."
   ]
  },
  {
   "cell_type": "markdown",
   "metadata": {},
   "source": [
    "The evaluation process seems a bit silly here, since we only have 10 images in training and I added 4 images for validation.\n",
    "We'll discuss it here mostly theoratically.\n",
    "\n",
    "This task is a binary classification task.\n",
    "Popular metrics to evaluate outcomes are: accuracy, precision, recall, F1, AUC.\n",
    "\n",
    "The accuracy shows the overall score, how many of the tissues we classified correctly, tumor or normal. Accuracy is only relevant if our val/test data is balanced.\n",
    "The recall shows how many of the tumor examples we succesfully identified.\n",
    "The precision shows how many of what we identified as tumor actually is tumor.\n",
    "\n",
    "while it's always good to view over a few metrics, choosing the most appropriate metric \n",
    "depends on the objective and what you want to achieve.\n",
    "If falsely alerting that a tumor was found is severe, we should especially make sure our precision is high.\n",
    "If missing out tumors is unacceptable, we should especially make sure our recall is high.\n",
    "I would guess the latter is the most appropriate one and we should focus on recall.\n",
    "\n",
    "If both is equally important, we should check out F1.\n",
    "And in that case, it's also important to check the auc roc score, that maps the relationship \n",
    "between tpr and fpr of the model across different thresholds. It mostly shines when the classes \n",
    "are imbalanced."
   ]
  },
  {
   "cell_type": "code",
   "execution_count": 22,
   "metadata": {},
   "outputs": [
    {
     "name": "stdout",
     "output_type": "stream",
     "text": [
      "\u001b[1m338/338\u001b[0m \u001b[32m━━━━━━━━━━━━━━━━━━━━\u001b[0m\u001b[37m\u001b[0m \u001b[1m44s\u001b[0m 123ms/step\n",
      "\u001b[1m182/182\u001b[0m \u001b[32m━━━━━━━━━━━━━━━━━━━━\u001b[0m\u001b[37m\u001b[0m \u001b[1m20s\u001b[0m 112ms/step\n"
     ]
    }
   ],
   "source": [
    "train_preds = model.predict(X_train)\n",
    "val_preds = model.predict(X_val)\n",
    "\n",
    "\n",
    "train_preds_round = np.round(train_preds).astype(int)\n",
    "val_preds_round = np.round(val_preds).astype(int)"
   ]
  },
  {
   "cell_type": "code",
   "execution_count": 37,
   "metadata": {},
   "outputs": [],
   "source": [
    "def get_img_preds(preds: np.array, tiles_amounts_list: list) -> np.array:\n",
    "    preds_imgs = []\n",
    "    pos = 0 \n",
    "    for tiles_amounts in tiles_amounts_list:\n",
    "        preds_imgs.append(preds[pos:pos+tiles_amounts].mean())\n",
    "        pos += tiles_amounts\n",
    "    return np.round(np.array(preds_imgs)).astype(int)"
   ]
  },
  {
   "cell_type": "code",
   "execution_count": 38,
   "metadata": {},
   "outputs": [],
   "source": [
    "train_preds_imgs = get_img_preds(train_preds, tiles_amounts_train)\n",
    "val_preds_imgs = get_img_preds(val_preds, tiles_amounts_val)"
   ]
  },
  {
   "cell_type": "code",
   "execution_count": 55,
   "metadata": {},
   "outputs": [
    {
     "data": {
      "image/png": "[encoded data removed]",
      "text/plain": [
       "<Figure size 800x600 with 2 Axes>"
      ]
     },
     "metadata": {},
     "output_type": "display_data"
    }
   ],
   "source": [
    "fig, axes = plt.subplots(2,1,figsize=(8,6))\n",
    "axes[0].hist(np.squeeze(train_preds));\n",
    "axes[1].hist(np.squeeze(val_preds));\n",
    "axes[0].set_title('Train Tiles Predictions Histogram')\n",
    "axes[1].set_title('Validation Tiles Predictions Histogram')\n",
    "plt.show()"
   ]
  },
  {
   "cell_type": "code",
   "execution_count": 57,
   "metadata": {},
   "outputs": [
    {
     "name": "stdout",
     "output_type": "stream",
     "text": [
      "Outcomes per tile: \n",
      "\n",
      "train accuracy:  0.8784\n",
      "train recall:  0.9831\n",
      "train precision:  0.8777\n",
      "train f1:  0.9274\n",
      "\n",
      "val accuracy:  0.7687\n",
      "val recall:  0.8999\n",
      "val precision:  0.7685\n",
      "val f1:  0.829\n",
      "\n",
      "Outcomes per image: \n",
      "\n",
      "train accuracy:  0.9\n",
      "train recall:  1.0\n",
      "train precision:  0.875\n",
      "train f1:  0.9333\n",
      "\n",
      "val accuracy:  0.75\n",
      "val recall:  1.0\n",
      "val precision:  0.6667\n",
      "val f1:  0.8\n"
     ]
    }
   ],
   "source": [
    "from sklearn import metrics\n",
    "print('Outcomes per tile: \\n')\n",
    "print('train accuracy: ', np.round(metrics.accuracy_score(y_train, train_preds_round),4))\n",
    "print('train recall: ', np.round(metrics.recall_score(y_train, train_preds_round),4))\n",
    "print('train precision: ', np.round(metrics.precision_score(y_train, train_preds_round),4))\n",
    "print('train f1: ', np.round(metrics.f1_score(y_train, train_preds_round),4))\n",
    "\n",
    "print('\\nval accuracy: ', np.round(metrics.accuracy_score(y_val, val_preds_round),4))\n",
    "print('val recall: ', np.round(metrics.recall_score(y_val, val_preds_round),4))\n",
    "print('val precision: ', np.round(metrics.precision_score(y_val, val_preds_round),4))\n",
    "print('val f1: ', np.round(metrics.f1_score(y_val, val_preds_round),4))\n",
    "\n",
    "print('\\nOutcomes per image: \\n')\n",
    "print('train accuracy: ', np.round(metrics.accuracy_score(get_img_preds(y_train, tiles_amounts_train), train_preds_imgs),4))\n",
    "print('train recall: ', np.round(metrics.recall_score(get_img_preds(y_train, tiles_amounts_train), train_preds_imgs),4))\n",
    "print('train precision: ', np.round(metrics.precision_score(get_img_preds(y_train, tiles_amounts_train), train_preds_imgs),4))\n",
    "print('train f1: ', np.round(metrics.f1_score(get_img_preds(y_train, tiles_amounts_train), train_preds_imgs),4))\n",
    "\n",
    "print('\\nval accuracy: ', np.round(metrics.accuracy_score(get_img_preds(y_val, tiles_amounts_val), val_preds_imgs),4))\n",
    "print('val recall: ', np.round(metrics.recall_score(get_img_preds(y_val, tiles_amounts_val), val_preds_imgs),4))\n",
    "print('val precision: ', np.round(metrics.precision_score(get_img_preds(y_val, tiles_amounts_val), val_preds_imgs),4))\n",
    "print('val f1: ', np.round(metrics.f1_score(get_img_preds(y_val, tiles_amounts_val), val_preds_imgs),4))"
   ]
  },
  {
   "cell_type": "markdown",
   "metadata": {},
   "source": [
    "Hard to judge the model with so little data, but outcomes are surprisingly not the worse.\n",
    "Still, you see the outcomes of the train data is better.\n",
    "\n",
    "The model can't seem to understand what inidicates that a tile containes a tumor which makes perfect sense, since most of the tiles in a tumorous slide image don't contain a tumor, but they are all tagged as they contain a tumor, since we don't have better tags (segmentation).\n",
    "\n",
    "How to improve results:\n",
    "\n",
    "1. Change the target / loss function. As stated, the target is not accurate at all. A few possible fixes:\n",
    "    a. change loss function to use BCE on the mean of all tiles of the same slide image to that image's target\n",
    "    b. change data to contain only image data and divide into tiles inside the net\n",
    "    c. change the target to contain only images tags and average the last layer by tiles and compare\n",
    "2. ADD DATA. and gpus :)\n",
    "3. Add data augmentations to increase dataset - rotations, movements\n",
    "4. Process data: grey-scale, HSV dimensions, protain-nuclei dimensions\n",
    "5. Hyper parameter tuning - change loss, optimizer, lr, epochs...\n",
    "6. Multi-modality model - add more data on the person in addition to the tissue slide image (age, smoking...)\n",
    "7. Split data into tissue types and train seperately. I saw some very different-looking tissues, the model might have difficulty generalizing to all kinds and have more success training and predicting for each tissue type alone. \n"
   ]
  },
  {
   "cell_type": "markdown",
   "metadata": {},
   "source": []
  }
 ],
 "metadata": {
  "kernelspec": {
   "display_name": "base",
   "language": "python",
   "name": "python3"
  },
  "language_info": {
   "codemirror_mode": {
    "name": "ipython",
    "version": 3
   },
   "file_extension": ".py",
   "mimetype": "text/x-python",
   "name": "python",
   "nbconvert_exporter": "python",
   "pygments_lexer": "ipython3",
   "version": "3.12.3"
  }
 },
 "nbformat": 4,
 "nbformat_minor": 2
}
